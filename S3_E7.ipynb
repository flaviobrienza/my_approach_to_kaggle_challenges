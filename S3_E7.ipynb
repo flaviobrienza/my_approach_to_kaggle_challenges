{
 "cells": [
  {
   "attachments": {},
   "cell_type": "markdown",
   "metadata": {},
   "source": [
    "# My Approach to the Kaggle Challenge   \n",
    "\n",
    "Challenge: https://www.kaggle.com/competitions/playground-series-s3e7/overview   \n",
    "\n",
    "This notebook only wants to provide some hints on how to approach the challenge, the final solution is not reported here. "
   ]
  },
  {
   "attachments": {},
   "cell_type": "markdown",
   "metadata": {},
   "source": [
    "# Importing Libraries"
   ]
  },
  {
   "cell_type": "code",
   "execution_count": 1,
   "metadata": {},
   "outputs": [],
   "source": [
    "import pandas as pd\n",
    "import numpy as np\n",
    "import matplotlib\n",
    "import matplotlib.pyplot as plt\n",
    "import seaborn as sns\n",
    "%matplotlib inline\n",
    "\n",
    "sns.set_style(\"darkgrid\")\n",
    "matplotlib.rcParams['font.size'] = 14\n",
    "matplotlib.rcParams['figure.figsize'] = (15, 5)\n",
    "matplotlib.rcParams['figure.facecolor'] = '#00000000'\n",
    "\n",
    "import warnings\n",
    "warnings.simplefilter(action='ignore')\n",
    "\n",
    "import opendatasets as od"
   ]
  },
  {
   "attachments": {},
   "cell_type": "markdown",
   "metadata": {},
   "source": [
    "# Importing Data"
   ]
  },
  {
   "cell_type": "code",
   "execution_count": 2,
   "metadata": {},
   "outputs": [
    {
     "name": "stdout",
     "output_type": "stream",
     "text": [
      "Skipping, found downloaded files in \".\\playground-series-s3e7\" (use force=True to force download)\n"
     ]
    }
   ],
   "source": [
    "od.download('https://www.kaggle.com/competitions/playground-series-s3e7/data?select=train.csv')"
   ]
  },
  {
   "cell_type": "code",
   "execution_count": 3,
   "metadata": {},
   "outputs": [
    {
     "name": "stdout",
     "output_type": "stream",
     "text": [
      "Skipping, found downloaded files in \".\\reservation-cancellation-prediction\" (use force=True to force download)\n"
     ]
    }
   ],
   "source": [
    "od.download('https://www.kaggle.com/datasets/gauravduttakiit/reservation-cancellation-prediction?select=train__dataset.csv')"
   ]
  },
  {
   "cell_type": "code",
   "execution_count": 4,
   "metadata": {},
   "outputs": [],
   "source": [
    "url = './playground-series-s3e7/'\n",
    "\n",
    "train = pd.read_csv(url+'train.csv').drop(columns='id')\n",
    "test = pd.read_csv(url+'test.csv').drop(columns='id')\n",
    "submission = pd.read_csv(url + 'sample_submission.csv')\n",
    "\n",
    "original = pd.read_csv('./reservation-cancellation-prediction/train__dataset.csv')"
   ]
  },
  {
   "attachments": {},
   "cell_type": "markdown",
   "metadata": {},
   "source": [
    "# EDA and Feature Engineering"
   ]
  },
  {
   "cell_type": "code",
   "execution_count": 5,
   "metadata": {},
   "outputs": [
    {
     "name": "stdout",
     "output_type": "stream",
     "text": [
      "<class 'pandas.core.frame.DataFrame'>\n",
      "RangeIndex: 42100 entries, 0 to 42099\n",
      "Data columns (total 18 columns):\n",
      " #   Column                                Non-Null Count  Dtype  \n",
      "---  ------                                --------------  -----  \n",
      " 0   no_of_adults                          42100 non-null  int64  \n",
      " 1   no_of_children                        42100 non-null  int64  \n",
      " 2   no_of_weekend_nights                  42100 non-null  int64  \n",
      " 3   no_of_week_nights                     42100 non-null  int64  \n",
      " 4   type_of_meal_plan                     42100 non-null  int64  \n",
      " 5   required_car_parking_space            42100 non-null  int64  \n",
      " 6   room_type_reserved                    42100 non-null  int64  \n",
      " 7   lead_time                             42100 non-null  int64  \n",
      " 8   arrival_year                          42100 non-null  int64  \n",
      " 9   arrival_month                         42100 non-null  int64  \n",
      " 10  arrival_date                          42100 non-null  int64  \n",
      " 11  market_segment_type                   42100 non-null  int64  \n",
      " 12  repeated_guest                        42100 non-null  int64  \n",
      " 13  no_of_previous_cancellations          42100 non-null  int64  \n",
      " 14  no_of_previous_bookings_not_canceled  42100 non-null  int64  \n",
      " 15  avg_price_per_room                    42100 non-null  float64\n",
      " 16  no_of_special_requests                42100 non-null  int64  \n",
      " 17  booking_status                        42100 non-null  int64  \n",
      "dtypes: float64(1), int64(17)\n",
      "memory usage: 5.8 MB\n"
     ]
    }
   ],
   "source": [
    "train.info()"
   ]
  },
  {
   "attachments": {},
   "cell_type": "markdown",
   "metadata": {},
   "source": [
    "Checking if the target variable is unbalanced."
   ]
  },
  {
   "cell_type": "code",
   "execution_count": 6,
   "metadata": {},
   "outputs": [
    {
     "data": {
      "text/plain": [
       "0    25596\n",
       "1    16504\n",
       "Name: booking_status, dtype: int64"
      ]
     },
     "execution_count": 6,
     "metadata": {},
     "output_type": "execute_result"
    }
   ],
   "source": [
    "train.booking_status.value_counts()"
   ]
  },
  {
   "attachments": {},
   "cell_type": "markdown",
   "metadata": {},
   "source": [
    "It does not look unbalanced, checking if it is the same for the original dataset."
   ]
  },
  {
   "cell_type": "code",
   "execution_count": 7,
   "metadata": {},
   "outputs": [
    {
     "data": {
      "text/plain": [
       "0    12195\n",
       "1     5942\n",
       "Name: booking_status, dtype: int64"
      ]
     },
     "execution_count": 7,
     "metadata": {},
     "output_type": "execute_result"
    }
   ],
   "source": [
    "original.booking_status.value_counts()"
   ]
  },
  {
   "attachments": {},
   "cell_type": "markdown",
   "metadata": {},
   "source": [
    "## Feature Creation Ideas  \n",
    "\n",
    "In this section some new features were created, but none of them improved the score.  \n",
    "I left the only one that helped.\n",
    "\n",
    "- removing incorrect information from the date features   "
   ]
  },
  {
   "attachments": {},
   "cell_type": "markdown",
   "metadata": {},
   "source": [
    "### Removing Incorrect Information  \n",
    "\n",
    "It is not possible since many dates are wrong. "
   ]
  },
  {
   "cell_type": "code",
   "execution_count": 8,
   "metadata": {},
   "outputs": [],
   "source": [
    "train.drop(index=train[(train.arrival_month == 2) & (train.arrival_date > 28)].index, inplace=True)\n",
    "train.drop(index=train[(train.arrival_month == 4) & (train.arrival_date > 30)].index, inplace=True) \n",
    "train.drop(index=train[(train.arrival_month == 6) & (train.arrival_date > 30)].index, inplace=True) \n",
    "train.drop(index=train[(train.arrival_month == 9) & (train.arrival_date > 30)].index, inplace=True)\n",
    "train.drop(index=train[(train.arrival_month == 11) & (train.arrival_date > 30)].index, inplace=True)"
   ]
  },
  {
   "attachments": {},
   "cell_type": "markdown",
   "metadata": {},
   "source": [
    "Checking whether classes are unbalanced."
   ]
  },
  {
   "cell_type": "code",
   "execution_count": 9,
   "metadata": {},
   "outputs": [
    {
     "data": {
      "text/plain": [
       "0    25559\n",
       "1    16491\n",
       "Name: booking_status, dtype: int64"
      ]
     },
     "execution_count": 9,
     "metadata": {},
     "output_type": "execute_result"
    }
   ],
   "source": [
    "train.booking_status.value_counts()"
   ]
  },
  {
   "attachments": {},
   "cell_type": "markdown",
   "metadata": {},
   "source": [
    "It has not affected the balance so much."
   ]
  },
  {
   "attachments": {},
   "cell_type": "markdown",
   "metadata": {},
   "source": [
    "## Creating X and y "
   ]
  },
  {
   "cell_type": "code",
   "execution_count": 10,
   "metadata": {},
   "outputs": [],
   "source": [
    "X = train.drop(columns='booking_status')\n",
    "y = train.booking_status"
   ]
  },
  {
   "attachments": {},
   "cell_type": "markdown",
   "metadata": {},
   "source": [
    "## Defining Categorical Columns"
   ]
  },
  {
   "cell_type": "code",
   "execution_count": 11,
   "metadata": {},
   "outputs": [],
   "source": [
    "from sklearn.preprocessing import OneHotEncoder"
   ]
  },
  {
   "cell_type": "code",
   "execution_count": 12,
   "metadata": {},
   "outputs": [],
   "source": [
    "categorical_cols = ['type_of_meal_plan', 'room_type_reserved', 'market_segment_type']\n",
    "\n",
    "encoder = OneHotEncoder(sparse=False).fit(X[categorical_cols])\n",
    "\n",
    "encoded_cols = list(encoder.get_feature_names_out(categorical_cols))\n",
    "\n",
    "X[encoded_cols] = encoder.transform(X[categorical_cols])\n",
    "test[encoded_cols] = encoder.transform(test[categorical_cols])"
   ]
  },
  {
   "attachments": {},
   "cell_type": "markdown",
   "metadata": {},
   "source": [
    "## Scaling Values"
   ]
  },
  {
   "cell_type": "code",
   "execution_count": 13,
   "metadata": {},
   "outputs": [],
   "source": [
    "from sklearn.preprocessing import RobustScaler"
   ]
  },
  {
   "cell_type": "code",
   "execution_count": 14,
   "metadata": {},
   "outputs": [],
   "source": [
    "numerical_cols = X.drop(columns=categorical_cols).columns.tolist()\n",
    "\n",
    "scaler = RobustScaler().fit(X[numerical_cols])\n",
    "\n",
    "X[numerical_cols] = scaler.transform(X[numerical_cols])\n",
    "test[numerical_cols] = scaler.transform(test[numerical_cols])"
   ]
  },
  {
   "attachments": {},
   "cell_type": "markdown",
   "metadata": {},
   "source": [
    "# Model   \n",
    "\n",
    "The following model is only one of the many different attempts that I tried to achieve a good score in the challenge.  \n",
    "\n",
    "By the way, I obtained my best score without including the original dataset, without adding new variables (in my first run I created some of them) and using the robust scaler."
   ]
  },
  {
   "cell_type": "code",
   "execution_count": 15,
   "metadata": {},
   "outputs": [],
   "source": [
    "from xgboost import XGBClassifier \n",
    "from sklearn.model_selection import RandomizedSearchCV"
   ]
  },
  {
   "attachments": {},
   "cell_type": "markdown",
   "metadata": {},
   "source": [
    "Best mean test score: 0.913138\t\t"
   ]
  },
  {
   "attachments": {},
   "cell_type": "markdown",
   "metadata": {},
   "source": [
    "This is an example from where I started.  \n",
    "\n",
    "I found RandomizedSearchCV really helpful."
   ]
  },
  {
   "cell_type": "code",
   "execution_count": 16,
   "metadata": {},
   "outputs": [
    {
     "data": {
      "text/html": [
       "<div>\n",
       "<style scoped>\n",
       "    .dataframe tbody tr th:only-of-type {\n",
       "        vertical-align: middle;\n",
       "    }\n",
       "\n",
       "    .dataframe tbody tr th {\n",
       "        vertical-align: top;\n",
       "    }\n",
       "\n",
       "    .dataframe thead th {\n",
       "        text-align: right;\n",
       "    }\n",
       "</style>\n",
       "<table border=\"1\" class=\"dataframe\">\n",
       "  <thead>\n",
       "    <tr style=\"text-align: right;\">\n",
       "      <th></th>\n",
       "      <th>mean_fit_time</th>\n",
       "      <th>std_fit_time</th>\n",
       "      <th>mean_score_time</th>\n",
       "      <th>std_score_time</th>\n",
       "      <th>param_min_child_weight</th>\n",
       "      <th>param_max_depth</th>\n",
       "      <th>param_learning_rate</th>\n",
       "      <th>params</th>\n",
       "      <th>split0_test_score</th>\n",
       "      <th>split1_test_score</th>\n",
       "      <th>split2_test_score</th>\n",
       "      <th>split3_test_score</th>\n",
       "      <th>split4_test_score</th>\n",
       "      <th>mean_test_score</th>\n",
       "      <th>std_test_score</th>\n",
       "      <th>rank_test_score</th>\n",
       "    </tr>\n",
       "  </thead>\n",
       "  <tbody>\n",
       "    <tr>\n",
       "      <th>4</th>\n",
       "      <td>4.893324</td>\n",
       "      <td>0.019715</td>\n",
       "      <td>0.029577</td>\n",
       "      <td>0.001829</td>\n",
       "      <td>15</td>\n",
       "      <td>3</td>\n",
       "      <td>0.2</td>\n",
       "      <td>{'min_child_weight': 15, 'max_depth': 3, 'lear...</td>\n",
       "      <td>0.891888</td>\n",
       "      <td>0.901862</td>\n",
       "      <td>0.899508</td>\n",
       "      <td>0.902134</td>\n",
       "      <td>0.894353</td>\n",
       "      <td>0.897949</td>\n",
       "      <td>0.004121</td>\n",
       "      <td>1</td>\n",
       "    </tr>\n",
       "    <tr>\n",
       "      <th>0</th>\n",
       "      <td>7.255245</td>\n",
       "      <td>0.527666</td>\n",
       "      <td>0.037725</td>\n",
       "      <td>0.006714</td>\n",
       "      <td>7</td>\n",
       "      <td>5</td>\n",
       "      <td>0.2</td>\n",
       "      <td>{'min_child_weight': 7, 'max_depth': 5, 'learn...</td>\n",
       "      <td>0.892689</td>\n",
       "      <td>0.901285</td>\n",
       "      <td>0.898089</td>\n",
       "      <td>0.900741</td>\n",
       "      <td>0.893493</td>\n",
       "      <td>0.897259</td>\n",
       "      <td>0.003580</td>\n",
       "      <td>2</td>\n",
       "    </tr>\n",
       "    <tr>\n",
       "      <th>3</th>\n",
       "      <td>7.692775</td>\n",
       "      <td>0.036258</td>\n",
       "      <td>0.038852</td>\n",
       "      <td>0.001690</td>\n",
       "      <td>1</td>\n",
       "      <td>5</td>\n",
       "      <td>0.2</td>\n",
       "      <td>{'min_child_weight': 1, 'max_depth': 5, 'learn...</td>\n",
       "      <td>0.891567</td>\n",
       "      <td>0.900633</td>\n",
       "      <td>0.898214</td>\n",
       "      <td>0.899204</td>\n",
       "      <td>0.892556</td>\n",
       "      <td>0.896435</td>\n",
       "      <td>0.003666</td>\n",
       "      <td>3</td>\n",
       "    </tr>\n",
       "  </tbody>\n",
       "</table>\n",
       "</div>"
      ],
      "text/plain": [
       "   mean_fit_time  std_fit_time  mean_score_time  std_score_time  \\\n",
       "4       4.893324      0.019715         0.029577        0.001829   \n",
       "0       7.255245      0.527666         0.037725        0.006714   \n",
       "3       7.692775      0.036258         0.038852        0.001690   \n",
       "\n",
       "  param_min_child_weight param_max_depth param_learning_rate  \\\n",
       "4                     15               3                 0.2   \n",
       "0                      7               5                 0.2   \n",
       "3                      1               5                 0.2   \n",
       "\n",
       "                                              params  split0_test_score  \\\n",
       "4  {'min_child_weight': 15, 'max_depth': 3, 'lear...           0.891888   \n",
       "0  {'min_child_weight': 7, 'max_depth': 5, 'learn...           0.892689   \n",
       "3  {'min_child_weight': 1, 'max_depth': 5, 'learn...           0.891567   \n",
       "\n",
       "   split1_test_score  split2_test_score  split3_test_score  split4_test_score  \\\n",
       "4           0.901862           0.899508           0.902134           0.894353   \n",
       "0           0.901285           0.898089           0.900741           0.893493   \n",
       "3           0.900633           0.898214           0.899204           0.892556   \n",
       "\n",
       "   mean_test_score  std_test_score  rank_test_score  \n",
       "4         0.897949        0.004121                1  \n",
       "0         0.897259        0.003580                2  \n",
       "3         0.896435        0.003666                3  "
      ]
     },
     "execution_count": 16,
     "metadata": {},
     "output_type": "execute_result"
    }
   ],
   "source": [
    "classification = RandomizedSearchCV(XGBClassifier(n_jobs=-1, n_estimators=500, random_state=42),{\n",
    "    'max_depth': [1,2,3,4,5,6,7,8,9],\n",
    "    'learning_rate': [0.001, 0.01, 0.1, 0.2, 0.3],\n",
    "    'min_child_weight': [1,3,5,7,9,11,13,15]\n",
    "}, cv=5, return_train_score=False, scoring='roc_auc', n_iter=10) \n",
    "\n",
    "classification.fit(X,y) \n",
    "\n",
    "pd.DataFrame(classification.cv_results_).sort_values('rank_test_score').head(3)"
   ]
  },
  {
   "attachments": {},
   "cell_type": "markdown",
   "metadata": {},
   "source": [
    "A good idea is to report the best parameters of each run and try new values close to them."
   ]
  },
  {
   "attachments": {},
   "cell_type": "markdown",
   "metadata": {},
   "source": [
    "## Model Creation  \n",
    "\n",
    "After having found the best parameters they can be put into the model.\n",
    "\n",
    "The values used here are only an example of a run that I did."
   ]
  },
  {
   "cell_type": "code",
   "execution_count": 25,
   "metadata": {},
   "outputs": [
    {
     "data": {
      "text/plain": [
       "XGBClassifier(base_score=0.5, booster='gbtree', callbacks=None,\n",
       "              colsample_bylevel=1, colsample_bynode=1, colsample_bytree=0.42,\n",
       "              early_stopping_rounds=None, enable_categorical=False,\n",
       "              eval_metric=None, gamma=0, gpu_id=-1, grow_policy='depthwise',\n",
       "              importance_type=None, interaction_constraints='',\n",
       "              learning_rate=0.19, max_bin=256, max_cat_to_onehot=4,\n",
       "              max_delta_step=0, max_depth=6, max_leaves=0, min_child_weight=13,\n",
       "              missing=nan, monotone_constraints='()', n_estimators=500,\n",
       "              n_jobs=-1, num_parallel_tree=1, predictor='auto', random_state=42,\n",
       "              reg_alpha=0, reg_lambda=1, ...)"
      ]
     },
     "execution_count": 25,
     "metadata": {},
     "output_type": "execute_result"
    }
   ],
   "source": [
    "final_model = XGBClassifier(n_jobs=-1, n_estimators=500, max_depth=6, learning_rate=0.19, min_child_weight=13, colsample_bytree=0.42, random_state=42) \n",
    "\n",
    "final_model.fit(X,y)  "
   ]
  },
  {
   "attachments": {},
   "cell_type": "markdown",
   "metadata": {},
   "source": [
    "# Submission  \n",
    "\n",
    "To submit the challenge."
   ]
  },
  {
   "cell_type": "code",
   "execution_count": 29,
   "metadata": {},
   "outputs": [
    {
     "data": {
      "text/html": [
       "<div>\n",
       "<style scoped>\n",
       "    .dataframe tbody tr th:only-of-type {\n",
       "        vertical-align: middle;\n",
       "    }\n",
       "\n",
       "    .dataframe tbody tr th {\n",
       "        vertical-align: top;\n",
       "    }\n",
       "\n",
       "    .dataframe thead th {\n",
       "        text-align: right;\n",
       "    }\n",
       "</style>\n",
       "<table border=\"1\" class=\"dataframe\">\n",
       "  <thead>\n",
       "    <tr style=\"text-align: right;\">\n",
       "      <th></th>\n",
       "      <th>id</th>\n",
       "      <th>booking_status</th>\n",
       "    </tr>\n",
       "  </thead>\n",
       "  <tbody>\n",
       "    <tr>\n",
       "      <th>0</th>\n",
       "      <td>42100</td>\n",
       "      <td>0.392</td>\n",
       "    </tr>\n",
       "    <tr>\n",
       "      <th>1</th>\n",
       "      <td>42101</td>\n",
       "      <td>0.392</td>\n",
       "    </tr>\n",
       "    <tr>\n",
       "      <th>2</th>\n",
       "      <td>42102</td>\n",
       "      <td>0.392</td>\n",
       "    </tr>\n",
       "    <tr>\n",
       "      <th>3</th>\n",
       "      <td>42103</td>\n",
       "      <td>0.392</td>\n",
       "    </tr>\n",
       "    <tr>\n",
       "      <th>4</th>\n",
       "      <td>42104</td>\n",
       "      <td>0.392</td>\n",
       "    </tr>\n",
       "  </tbody>\n",
       "</table>\n",
       "</div>"
      ],
      "text/plain": [
       "      id  booking_status\n",
       "0  42100           0.392\n",
       "1  42101           0.392\n",
       "2  42102           0.392\n",
       "3  42103           0.392\n",
       "4  42104           0.392"
      ]
     },
     "execution_count": 29,
     "metadata": {},
     "output_type": "execute_result"
    }
   ],
   "source": [
    "submission.head()"
   ]
  },
  {
   "cell_type": "code",
   "execution_count": 22,
   "metadata": {},
   "outputs": [],
   "source": [
    "preds = final_model.predict_proba(test)[:,1]"
   ]
  },
  {
   "cell_type": "code",
   "execution_count": 252,
   "metadata": {},
   "outputs": [],
   "source": [
    "submission['booking_status'] = preds "
   ]
  },
  {
   "attachments": {},
   "cell_type": "markdown",
   "metadata": {},
   "source": [
    "Hint: put the attempt's number in the file's name."
   ]
  },
  {
   "cell_type": "code",
   "execution_count": 253,
   "metadata": {},
   "outputs": [],
   "source": [
    "submission.to_csv('tenth_attempt.csv', index=None)"
   ]
  },
  {
   "attachments": {},
   "cell_type": "markdown",
   "metadata": {},
   "source": [
    "# Conclusion  \n",
    "\n",
    "I applied this workflow to the Kaggle playground challenges 6 and 7 and I was able to obtain very good results, obviously it does not mean that it can be applied to every situation. "
   ]
  }
 ],
 "metadata": {
  "kernelspec": {
   "display_name": "Python 3",
   "language": "python",
   "name": "python3"
  },
  "language_info": {
   "codemirror_mode": {
    "name": "ipython",
    "version": 3
   },
   "file_extension": ".py",
   "mimetype": "text/x-python",
   "name": "python",
   "nbconvert_exporter": "python",
   "pygments_lexer": "ipython3",
   "version": "3.10.2"
  },
  "orig_nbformat": 4,
  "vscode": {
   "interpreter": {
    "hash": "d5ea41e4a4ff96221c207c65d84f76a2ad4a045e3a80bca3429d461f1852c7cd"
   }
  }
 },
 "nbformat": 4,
 "nbformat_minor": 2
}
